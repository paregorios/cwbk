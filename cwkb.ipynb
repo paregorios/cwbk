{
 "cells": [
  {
   "cell_type": "markdown",
   "metadata": {},
   "source": [
    "Create a Python 3.6 virtual environment and install the rdflib package with pip.\n",
    "\n",
    "Download the \"all records\" dataset from [the Classical Works Knowledge Base's \"Linked Open Data\" page](http://cwkb.org/linkedopendata), saving it in your working directory.\n",
    "\n",
    "Parse the CWBK graph (it's not tiny):"
   ]
  },
  {
   "cell_type": "code",
   "execution_count": 3,
   "metadata": {},
   "outputs": [
    {
     "data": {
      "text/plain": [
       "51534"
      ]
     },
     "execution_count": 3,
     "metadata": {},
     "output_type": "execute_result"
    }
   ],
   "source": [
    "import rdflib\n",
    "g = rdflib.Graph()\n",
    "g.parse(\"cwkb-all-20171120.rdf\")\n",
    "len(g)\n"
   ]
  },
  {
   "cell_type": "markdown",
   "metadata": {},
   "source": [
    "Construct and execute a SPARQL query to find the author and work you're seeking. For example, here's a query for Ptolemy's Geography:"
   ]
  },
  {
   "cell_type": "code",
   "execution_count": 5,
   "metadata": {},
   "outputs": [
    {
     "name": "stdout",
     "output_type": "stream",
     "text": [
      "(rdflib.term.URIRef('http://cwkb.org/author/id/805/rdf'),\n",
      " rdflib.term.URIRef('http://cwkb.org/work/id/4456/rdf'),\n",
      " rdflib.term.Literal('Ptol.'),\n",
      " rdflib.term.Literal('Geographia', lang='la'))\n"
     ]
    }
   ],
   "source": [
    "q = \"\"\"PREFIX foaf:  <http://xmlns.com/foaf/0.1/>\n",
    "       PREFIX rdfs: <http://www.w3.org/2000/01/rdf-schema#>\n",
    "       PREFIX lawd: <http://lawd.info/ontology/>\n",
    "       SELECT DISTINCT ?author ?work $author_abbr $work_label\n",
    "       WHERE {{\n",
    "          ?author a foaf:Person .\n",
    "          ?author lawd:responsibleFor ?work .\n",
    "          ?author rdfs:label|lawd:abbreviation $title .\n",
    "          ?author lawd:abbreviation $author_abbr .\n",
    "          ?work rdfs:label $work_label .\n",
    "          FILTER regex(?title, \"ptolemy\", \"i\" ) \n",
    "          FILTER regex(?work_label, \"geographia\", \"i\")\n",
    "       }}\"\"\".format('http://cwkb.org/author/id/805/rdf')\n",
    "results = g.query(q)\n",
    "from pprint import pprint\n",
    "for r in results:\n",
    "    pprint(r)"
   ]
  },
  {
   "cell_type": "code",
   "execution_count": null,
   "metadata": {},
   "outputs": [],
   "source": []
  }
 ],
 "metadata": {
  "kernelspec": {
   "display_name": "cwkb",
   "language": "python",
   "name": "cwkb"
  },
  "language_info": {
   "codemirror_mode": {
    "name": "ipython",
    "version": 3
   },
   "file_extension": ".py",
   "mimetype": "text/x-python",
   "name": "python",
   "nbconvert_exporter": "python",
   "pygments_lexer": "ipython3",
   "version": "3.6.1"
  }
 },
 "nbformat": 4,
 "nbformat_minor": 2
}
